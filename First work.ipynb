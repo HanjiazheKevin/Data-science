{
 "cells": [
  {
   "cell_type": "markdown",
   "id": "05a584e3-c7d6-4c60-be65-b07af27ec310",
   "metadata": {},
   "source": [
    "# My Jupyter Notebook on IBM Watson Studio"
   ]
  },
  {
   "cell_type": "markdown",
   "id": "46f22e28-1c84-4de7-aadb-2dbe016e23c9",
   "metadata": {},
   "source": [
    "**Han jiazhe**  \n",
    "student "
   ]
  },
  {
   "cell_type": "markdown",
   "id": "a57b7fb8-184a-4426-8c81-a6a0ea3c6244",
   "metadata": {},
   "source": [
    "*I am interested in data science because I think there will be a huge market for data science in the future and that data will help me to think and analyse*"
   ]
  },
  {
   "cell_type": "markdown",
   "id": "ee453ba3-85f2-4153-b4d2-7cdfae1abe92",
   "metadata": {},
   "source": [
    "### Do some mathematical calculations like a*b+c ###"
   ]
  },
  {
   "cell_type": "code",
   "execution_count": 10,
   "id": "4e3d9432-2244-48f4-92f9-76419d5145aa",
   "metadata": {},
   "outputs": [
    {
     "name": "stdout",
     "output_type": "stream",
     "text": [
      "11\n"
     ]
    }
   ],
   "source": [
    "a = 2\n",
    "b = 3\n",
    "c = 5\n",
    "print(a*b+c)"
   ]
  },
  {
   "cell_type": "markdown",
   "id": "6336a065-8b56-4d7b-9f6a-1134121f3bfd",
   "metadata": {},
   "source": [
    "---\n",
    "<li>list 1</li>\n",
    "<li>list 2</li>\n",
    "<li>list 3</li>\n",
    "<li>list 4</li>\n",
    "<li>list 5</li>\n",
    "\n",
    "---\n",
    "\n",
    "<table> border=\"1\">\n",
    "    <tr>\n",
    "        <td>row 1, cell 1</td>\n",
    "        <td>row 1, cell 2</td>\n",
    "    </tr>\n",
    "    <tr>\n",
    "        <td>row 2, cell 1</td>\n",
    "        <td>row 2, cell 2</td>\n",
    "    </tr>\n",
    "</table>\n",
    "\n",
    "---\n",
    "\n",
    "<h1><a href = \"https://www.bilibili.com/\">bilibili</a></h1>"
   ]
  },
  {
   "cell_type": "code",
   "execution_count": null,
   "id": "df50d93b-b3cd-4cad-8b0e-ba0a62c79fd2",
   "metadata": {},
   "outputs": [],
   "source": []
  }
 ],
 "metadata": {
  "kernelspec": {
   "display_name": "Python 3 (ipykernel)",
   "language": "python",
   "name": "python3"
  },
  "language_info": {
   "codemirror_mode": {
    "name": "ipython",
    "version": 3
   },
   "file_extension": ".py",
   "mimetype": "text/x-python",
   "name": "python",
   "nbconvert_exporter": "python",
   "pygments_lexer": "ipython3",
   "version": "3.9.12"
  }
 },
 "nbformat": 4,
 "nbformat_minor": 5
}
